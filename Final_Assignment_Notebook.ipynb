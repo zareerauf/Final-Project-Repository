{
 "cells": [
  {
   "cell_type": "markdown",
   "id": "ad3597a2-97bf-45e5-8af9-3e4c6f334427",
   "metadata": {},
   "source": [
    "# **My Jupyter Notebook on IBM Watson Studio**"
   ]
  },
  {
   "cell_type": "markdown",
   "id": "823ba542-6a5f-47af-b726-8082b8047b60",
   "metadata": {},
   "source": [
    "#### **Zara Rauf**\n",
    "#### Psychiatrist (currently a student)"
   ]
  },
  {
   "cell_type": "markdown",
   "id": "a42b85c0-ec09-4511-9a8d-75864e45a5f5",
   "metadata": {},
   "source": [
    "#### *I am interested in data science because it is something that can boost creative problem-solving and can help in gaining valuable insights through data in any field.*"
   ]
  },
  {
   "cell_type": "markdown",
   "id": "00961714-3aa5-439a-bb57-97952fef4a8f",
   "metadata": {},
   "source": [
    "### The following code is supposed to print the words \"I like icecream\":"
   ]
  },
  {
   "cell_type": "code",
   "execution_count": 2,
   "id": "21435727-44b9-49cb-9279-900c1b12320f",
   "metadata": {},
   "outputs": [
    {
     "name": "stdout",
     "output_type": "stream",
     "text": [
      "I like icecream!\n"
     ]
    }
   ],
   "source": [
    "print(\"I like icecream!\")"
   ]
  },
  {
   "cell_type": "markdown",
   "id": "eea6fea9-5966-40ba-aa2b-dd4e34364cc6",
   "metadata": {},
   "source": [
    "#### ~Here is some strikethrough text.~\n",
    "\n",
    "* Here\n",
    "* Is \n",
    "* A \n",
    "* Bulleted\n",
    "* List\n",
    "\n",
    "[And here is a hyperlink](https://www.google.com)"
   ]
  }
 ],
 "metadata": {
  "kernelspec": {
   "display_name": "Python",
   "language": "python",
   "name": "conda-env-python-py"
  },
  "language_info": {
   "codemirror_mode": {
    "name": "ipython",
    "version": 3
   },
   "file_extension": ".py",
   "mimetype": "text/x-python",
   "name": "python",
   "nbconvert_exporter": "python",
   "pygments_lexer": "ipython3",
   "version": "3.7.12"
  }
 },
 "nbformat": 4,
 "nbformat_minor": 5
}
